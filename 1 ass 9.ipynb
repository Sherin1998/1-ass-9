{
 "cells": [
  {
   "cell_type": "code",
   "execution_count": 5,
   "metadata": {},
   "outputs": [
    {
     "name": "stdout",
     "output_type": "stream",
     "text": [
      "89\n",
      "Disarium\n"
     ]
    }
   ],
   "source": [
    "#1\n",
    "def dis(qw):\n",
    "    x=qw\n",
    "    q=len(str(x))\n",
    "    sum=0\n",
    "    while(x>=0):\n",
    "        w=x%10\n",
    "        sum+=int(w**q)\n",
    "        q-=1\n",
    "        if(q==0):\n",
    "            break \n",
    "        x=x//10\n",
    "    return sum\n",
    "        \n",
    "        \n",
    "qw=int(input())\n",
    "temp=dis(qw)\n",
    "if(temp==qw):\n",
    "    print('Disarium')\n",
    "else:print('Not disarium')"
   ]
  },
  {
   "cell_type": "code",
   "execution_count": 12,
   "metadata": {},
   "outputs": [
    {
     "name": "stdout",
     "output_type": "stream",
     "text": [
      "1\n",
      "2\n",
      "3\n",
      "4\n",
      "5\n",
      "6\n",
      "7\n",
      "8\n",
      "9\n",
      "89\n"
     ]
    }
   ],
   "source": [
    "#2 \n",
    "for i in range(1,101):\n",
    "    temp=i\n",
    "    sum=0\n",
    "    le=len(str(i))\n",
    "    while(temp!=0):\n",
    "        q=temp%10\n",
    "        sum+=(q**le)\n",
    "        le-=1\n",
    "        if(le==0):\n",
    "            break\n",
    "        temp=temp//10\n",
    "    if(sum==i):\n",
    "        print(i)\n",
    "\n",
    "        "
   ]
  },
  {
   "cell_type": "code",
   "execution_count": 1,
   "metadata": {},
   "outputs": [
    {
     "name": "stdout",
     "output_type": "stream",
     "text": [
      "12\n",
      "Unhappy No\n"
     ]
    }
   ],
   "source": [
    "#3\n",
    "def happy(x):\n",
    "    sum=0\n",
    "    while(x>0):\n",
    "        q=x%10\n",
    "        sum+=(q**2)\n",
    "        x=x//10\n",
    "    return sum\n",
    "    \n",
    "x=int(input()) \n",
    "res=x\n",
    "while (res!=1 and res!=4):\n",
    "    res=happy(res)\n",
    "if(res==1):print('Happy No')\n",
    "else:print('Unhappy No')\n",
    "    \n",
    "    \n",
    "      \n",
    "    \n",
    "        \n",
    "       \n",
    "      \n",
    "      \n",
    "    \n",
    "    \n",
    "    \n",
    "    "
   ]
  },
  {
   "cell_type": "code",
   "execution_count": 9,
   "metadata": {},
   "outputs": [
    {
     "name": "stdout",
     "output_type": "stream",
     "text": [
      "1\n",
      "7\n",
      "10\n",
      "13\n",
      "19\n",
      "23\n",
      "28\n",
      "31\n",
      "32\n",
      "44\n",
      "49\n",
      "68\n",
      "70\n",
      "79\n",
      "82\n",
      "86\n",
      "91\n",
      "94\n",
      "97\n",
      "100\n"
     ]
    }
   ],
   "source": [
    "#4\n",
    "def happy(x):\n",
    "    sum=0\n",
    "    while(x>0):\n",
    "        q=x%10\n",
    "        sum+=(q**2)\n",
    "        x=x//10\n",
    "    return sum\n",
    "\n",
    "for i in range(1,101):\n",
    "    res=i\n",
    "    while(res!=1 and res!=4):\n",
    "        res=happy(res)\n",
    "    if(res==1):print(i)\n"
   ]
  },
  {
   "cell_type": "code",
   "execution_count": 14,
   "metadata": {},
   "outputs": [
    {
     "name": "stdout",
     "output_type": "stream",
     "text": [
      "156\n",
      "Harshad No\n"
     ]
    }
   ],
   "source": [
    "#5\n",
    "def harshad(q):\n",
    "    x=q\n",
    "    sum=0\n",
    "    while(x>0):\n",
    "        w=x%10\n",
    "        sum+=w\n",
    "        x=x//10\n",
    "    if(q%sum==0):\n",
    "        print('Harshad No')\n",
    "    else:print('Not harshad')\n",
    "        \n",
    "        \n",
    "q=int(input())\n",
    "harshad(q)\n"
   ]
  },
  {
   "cell_type": "code",
   "execution_count": 2,
   "metadata": {},
   "outputs": [
    {
     "name": "stdout",
     "output_type": "stream",
     "text": [
      "2\n",
      "6\n",
      "12\n",
      "20\n",
      "30\n",
      "42\n",
      "56\n",
      "72\n",
      "90\n"
     ]
    }
   ],
   "source": [
    "#6\n",
    "\n",
    "def isPrNu(num):  \n",
    "    flag = False   \n",
    "    for j in range(1, num+1):  \n",
    "        if((j*(j+1)) == num):  \n",
    "            flag = True  \n",
    "            break  \n",
    "    return flag  \n",
    "     \n",
    "for i in range(1, 101):  \n",
    "    if(isPrNu(i)):  \n",
    "        print(i) "
   ]
  },
  {
   "cell_type": "code",
   "execution_count": null,
   "metadata": {},
   "outputs": [],
   "source": []
  }
 ],
 "metadata": {
  "kernelspec": {
   "display_name": "Python 3",
   "language": "python",
   "name": "python3"
  },
  "language_info": {
   "codemirror_mode": {
    "name": "ipython",
    "version": 3
   },
   "file_extension": ".py",
   "mimetype": "text/x-python",
   "name": "python",
   "nbconvert_exporter": "python",
   "pygments_lexer": "ipython3",
   "version": "3.8.3"
  }
 },
 "nbformat": 4,
 "nbformat_minor": 4
}
